{
 "cells": [
  {
   "cell_type": "markdown",
   "metadata": {},
   "source": [
    "# Gemini code"
   ]
  },
  {
   "cell_type": "code",
   "execution_count": null,
   "metadata": {},
   "outputs": [],
   "source": [
    "from transformers import DPRQuestionEncoder, RagSequenceForGeneration, DPRPassageRetriever\n",
    "\n",
    "# Define model names and paths\n",
    "question_encoder_name = \"facebook/dpr-question-encoder-multiset-base\"\n",
    "retriever_name = \"facebook/dpr-retriever-multiset-base\"\n",
    "generator_name = \"facebook/bart-base\"\n",
    "\n",
    "# Initialize models\n",
    "question_encoder = DPRQuestionEncoder.from_pretrained(question_encoder_name)\n",
    "retriever = DPRPassageRetriever.from_pretrained(retriever_name)\n",
    "generator = RagSequenceForGeneration.from_pretrained(generator_name)\n",
    "\n",
    "# Example conversation loop\n",
    "while True:\n",
    "  user_question = input(\"User: \")\n",
    "\n",
    "  # Encode the question\n",
    "  question_encoding = question_encoder(question=user_question)\n",
    "\n",
    "  # Retrieve relevant passages\n",
    "  passages = retriever(question=question_encoding)\n",
    "\n",
    "  # Generate response using retrieved passages\n",
    "  response = generator(\n",
    "      input_ids=passages[\"input_ids\"],\n",
    "      attention_mask=passages[\"attention_mask\"],\n",
    "  )\n",
    "\n",
    "  # Decode and print the response\n",
    "  print(f\"Bard: {generator.config.id2token[response[0].item()]}\")\n",
    "\n"
   ]
  }
 ],
 "metadata": {
  "kernelspec": {
   "display_name": "Python 3",
   "language": "python",
   "name": "python3"
  },
  "language_info": {
   "codemirror_mode": {
    "name": "ipython",
    "version": 3
   },
   "file_extension": ".py",
   "mimetype": "text/x-python",
   "name": "python",
   "nbconvert_exporter": "python",
   "pygments_lexer": "ipython3",
   "version": "3.9.16"
  }
 },
 "nbformat": 4,
 "nbformat_minor": 2
}
