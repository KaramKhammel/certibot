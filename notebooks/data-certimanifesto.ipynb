{
 "cells": [
  {
   "cell_type": "code",
   "execution_count": 8,
   "metadata": {},
   "outputs": [],
   "source": [
    "from langchain.text_splitter import SentenceTransformersTokenTextSplitter"
   ]
  },
  {
   "cell_type": "code",
   "execution_count": 9,
   "metadata": {},
   "outputs": [
    {
     "name": "stderr",
     "output_type": "stream",
     "text": [
      "c:\\Users\\karam\\AppData\\Local\\Programs\\Python\\Python39\\lib\\site-packages\\torch\\_utils.py:776: UserWarning: TypedStorage is deprecated. It will be removed in the future and UntypedStorage will be the only storage class. This should only matter to you if you are using storages directly.  To access UntypedStorage directly, use tensor.untyped_storage() instead of tensor.storage()\n",
      "  return self.fget.__get__(instance, owner)()\n"
     ]
    }
   ],
   "source": [
    "text_splitter = SentenceTransformersTokenTextSplitter(tokens_per_chunk=256, chunk_overlap=32)"
   ]
  },
  {
   "cell_type": "code",
   "execution_count": 10,
   "metadata": {},
   "outputs": [],
   "source": [
    "path = 'C:/Users/karam/Documents/certibot/data/certi-manifesto.txt'"
   ]
  },
  {
   "cell_type": "code",
   "execution_count": 11,
   "metadata": {},
   "outputs": [],
   "source": [
    "with open(path) as f:\n",
    "    content = f.read()"
   ]
  },
  {
   "cell_type": "code",
   "execution_count": 12,
   "metadata": {},
   "outputs": [],
   "source": [
    "chunks = text_splitter.split_text(content)"
   ]
  },
  {
   "cell_type": "code",
   "execution_count": 13,
   "metadata": {},
   "outputs": [],
   "source": [
    "manifesto_json = []\n",
    "for i, chunk in enumerate(chunks):\n",
    "    manifesto_json.append({\"topic\": f\"CeriManifesto - {i}\", \"article\": chunk})"
   ]
  },
  {
   "cell_type": "code",
   "execution_count": 14,
   "metadata": {},
   "outputs": [],
   "source": [
    "import json\n",
    "\n",
    "path_write = 'C:/Users/karam/Documents/certibot/data/certi-manifesto-data.jsonl'\n",
    "with open(path_write, 'w') as f:\n",
    "    for item in manifesto_json:\n",
    "        json_line = json.dumps(item)\n",
    "        f.write(json_line + '\\n')"
   ]
  },
  {
   "cell_type": "markdown",
   "metadata": {},
   "source": [
    "# XP"
   ]
  },
  {
   "cell_type": "code",
   "execution_count": 16,
   "metadata": {},
   "outputs": [],
   "source": [
    "path = 'C:/Users/karam/Documents/certibot/data/certi-expertise-data.txt'\n",
    "\n",
    "with open(path) as f:\n",
    "    content = f.read()"
   ]
  },
  {
   "cell_type": "code",
   "execution_count": 17,
   "metadata": {},
   "outputs": [],
   "source": [
    "chunks = text_splitter.split_text(content)"
   ]
  },
  {
   "cell_type": "code",
   "execution_count": 18,
   "metadata": {},
   "outputs": [],
   "source": [
    "expertise_json = []\n",
    "for i, chunk in enumerate(chunks):\n",
    "    expertise_json.append({\"topic\": f\"CertiExpertise - {i}\", \"article\": chunk})"
   ]
  },
  {
   "cell_type": "code",
   "execution_count": 19,
   "metadata": {},
   "outputs": [],
   "source": [
    "import json\n",
    "\n",
    "path_write = 'C:/Users/karam/Documents/certibot/data/certi-expertise-data.jsonl'\n",
    "with open(path_write, 'w') as f:\n",
    "    for item in expertise_json:\n",
    "        json_line = json.dumps(item)\n",
    "        f.write(json_line + '\\n')"
   ]
  },
  {
   "cell_type": "markdown",
   "metadata": {},
   "source": [
    "# Igonre"
   ]
  },
  {
   "cell_type": "code",
   "execution_count": 2,
   "metadata": {},
   "outputs": [],
   "source": [
    "from datasets import load_dataset\n",
    "\n",
    "filenames = ['articles.jsonl', 'certi-expertise-data.jsonl', 'certi-history-data.jsonl', 'certi-manifesto-data.jsonl']\n",
    "root = 'C:/Users/karam/Documents/certibot/data/'"
   ]
  },
  {
   "cell_type": "code",
   "execution_count": 19,
   "metadata": {},
   "outputs": [
    {
     "name": "stdout",
     "output_type": "stream",
     "text": [
      "{'topic': 'Batterie neuve', 'article': \"La batterie neuve est Ã\\xa0 18,75â‚¬ pour les iPhone de gÃ©nÃ©ration infÃ©rieure au 8 plus et Ã\\xa0 29â‚¬ pour ceux de gÃ©nÃ©ration supÃ©rieures au 8 plus. Cette option permet de recevoir un appareil avec une batterie neuve posÃ©e par nos Ã©quipes, garantie 12 mois.\\nL'option est proposÃ©e au moment de l'achat de votre appareil. A ce jour, nous sommes les seuls en Europe Ã\\xa0 Ãªtre en mesure de vous proposer cette option.\\nLa batterie est changÃ©e spÃ©cifiquement pour vous, dans nos ateliers juste avant l'expÃ©dition. Cela peut retarder la livraison de 24h.\\n64% de nos clients l'ont achetÃ©, 98% le recommandent !\"}\n",
      "{'topic': 'Verification des appareils', 'article': 'Tous les appareils sont testÃ©s avant dâ€™Ãªtre mis en vente. Nous avons une cellule de test qui certifie et valide les produits, sur le plan technique et esthÃ©tique.\\nUne fois la commande passÃ©e, le produit est associÃ© Ã\\xa0 votre commande et entre dans la chaÃ®ne logistique, il sera nettoyÃ©, emballÃ©, puis expÃ©diÃ©. Durant toutes ces Ã©tapes, lâ€™appareil est re-vÃ©rifiÃ© (sur le plan esthÃ©tique, et sur les fonctionnalitÃ©s de base).\\nToutes ces Ã©tapes assurent un contrÃ´le et une qualitÃ© optimale de votre appareil.'}\n",
      "{'topic': 'Pack Zen', 'article': \"Le pack zen contient une vitre en verre trempÃ©e ainsi qu'une coque de protection.\\nLa vitre est en verre trempÃ©e, d'une Ã©paisseur de 3 mm, directement posÃ©e sur votre smartphone par nos prÃ©parateurs de commandes.\\nLa coque est en silicone, souple et transparente.\\nCe pack permet de protÃ©ger votre appareil en cas choc, et de limiter la casse.72% de clients l'ont achetÃ©, 96% le recommandent\"}\n",
      "{'topic': 'Test des produits', 'article': \"La certification est le cÅ“ur de mÃ©tier de Certideal. AprÃ¨s rÃ©ception dans notre atelier, chaque smartphone est testÃ© individuellement par nos experts sur 30 points de contrÃ´le : capacitÃ© de la batterie, qualitÃ© de l'appel tÃ©lÃ©phonique, appareil photo, Bluetoothâ€¦ Seuls les appareils qui valident l'intÃ©gralitÃ© de cette batterie de tests sont mis en vente sur notre site. Acheter un produit sur Certideal, c'est donc avoir l'assurance qu'il est 100 % fonctionnel.\"}\n",
      "{'topic': 'Garantie sur les produits', 'article': \"Nous offrons Ã\\xa0 nos clients 24 mois de garantie sur la grande majoritÃ© des produits disponibles sur Certideal. En cas de panne, Certideal est l'unique interlocuteur ! Nos locaux sont basÃ©s en France. Nous prenons en charge le diagnostic, la rÃ©paration ou le remplacement de l'appareil selon le souci constatÃ©, ainsi que les frais d'envois du renvoi de l'appareil.\\nLa garantie couvre l'intÃ©gralitÃ© des pannes techniques du tÃ©lÃ©phone, en dehors de la casse et de lâ€™oxydation.\\nLa batterie est un consommable et son usure dÃ©pendra de l'usage que vous ferez de votre smartphone. Nous garantissons un minimum de 80% de capacitÃ© originale Ã\\xa0 rÃ©ception.\\nVous avez 3 mois pour remonter un quelconque souci de batterie et ainsi la faire changer.\"}\n",
      "{'topic': 'Garantie bris de glace', 'article': \"La Garantie bris de glace est une option proposÃ©e par CertiDeal en cas de casse de votre Ã©cran.\\nSi vous brisez votre Ã©cran, nous prenons en charge le changement d'Ã©cran dans nos ateliers sans frais supplÃ©mentaires.\\nLa garantie bris de glace est valable Ã\\xa0 usage unique sur une durÃ©e de 12 mois, et assure une sÃ©rÃ©nitÃ© quant Ã\\xa0 lâ€™utilisation de votre smartphone.\"}\n",
      "{'topic': 'Accessoires', 'article': \"Tous nos smartphones sont vendus avec l'accessoire adaptÃ©, Ã\\xa0 savoir : un cÃ€ble et un extracteur de carte SIM. Ces produits sont neufs, pleinement compatibles et aux normes CE. Afin de lutter contre les dÃ©chets Ã©lectroniques, les Ã©couteurs ainsi que la prise murale ne sont plus fournis.\\nSi vous souhaitez plus d'accessoires, Certideal vous permet d'acheter en extra la prise murale, des Ã©couteurs, une coque et une vitre en verre trempÃ© que notre Ã©quipe posera directement sur votre smartphone avant son expÃ©dition.\"}\n",
      "{'topic': 'Emballage', 'article': \"Chaque appareil est vendu dans un emballage Certideal, avec son kit d'accessoires aux normes CE. Le packaging offre toutes les garanties de soliditÃ© nÃ©cessaires pour la livraison et est trÃ¨s apprÃ©ciÃ© de nos membres pour son design.\"}\n",
      "{'topic': 'Etat de la batterie', 'article': \"Toutes les batteries sont testÃ©es, vÃ©rifiÃ©es et certifiÃ©es par les experts CertiDeal.\\nNous garantissons un minimum de 80% de capacitÃ© originale Ã\\xa0 rÃ©ception, quel que soit l'Ã©tat choisi.\\nLes batteries sont des consommables, c'est pourquoi elle sont garanties 3 mois.\\nNous proposons une option entre 18,75 et 29â‚¬ selon le modÃ¨le, qui vous permet de vous garantir d'obtenir une  batterie neuve sur l'appareil, garantie 12 mois.\"}\n",
      "{'topic': 'Les imparfaits', 'article': \"Les Imparfaits, c'est une gamme de smartphones fonctionnels mais prÃ©sentant nÃ©anmoins un dÃ©faut. Vous ne vous servez pas de votre Touch ID ? Pourquoi alors ne pas acheter un smartphone qui n'a pas cette fonctionnalitÃ©, s'il est vendu encore moins cher qu'un smartphone reconditionnÃ© classique ? Et ce, d'autant plus que ce produit a Ã©tÃ© testÃ© par les experts Certideal comme tous nos smartphones et qu'au-delÃ\\xa0 de son dÃ©faut, il est certifiÃ© fonctionnel.\\nAvec les Imparfaits, vous savez ce que vous achetez : le dÃ©faut est clairement indiquÃ© sur la fiche produit et la catÃ©gorie les Imparfaits est distincte du reste du site. Ces produits ne se mÃ©langeront donc jamais avec les produits 100% fonctionnels proposÃ©s par Certideal. La garantie est Ã©galement de 24 mois sur ces appareils.\"}\n",
      "{'topic': 'Etats esthÃ©tiques', 'article': \"Tous les smartphones de CertiDeal, quel que soit l'Ã©tat, sont certifiÃ©s 100 % fonctionnels et dÃ©bloquÃ©s. De mÃªme, notre garantie s'applique dans les mÃªmes conditions et sur la mÃªme durÃ©e aux produits de tous Ã©tats. Les diffÃ©rences entre les Ã©tats se situent donc sur le plan esthÃ©tique : rayures sur la coque ou sur l'Ã©cran... \\nTous nos smartphones sont livrÃ©s avec un cable de chargement et un extracteur de carte SIM. L'Ã©tat esthÃ©tique est revÃ©rifiÃ© par sÃ©curitÃ© lors de l'expÃ©dition. TrÃ¨s rarement, l'Ã©quipe d'expÃ©dition infirme l'avis du testeur et cela peut entraÃ®ner un retard de quelques jours. C'est notre `double vÃ©rification`.\\nNos deux Ã©tats Parfait Ã©tat et Premium incluent uniquement des smartphones avec Ã©cran certifiÃ© d'origine.\"}\n",
      "{'topic': 'Etat Premium', 'article': \"Premium :\\nÃ‰cran : 100 % Garanti d'origine Apple (ExclusivitÃ© CertiDeal). QualitÃ© Impeccable (seulement 5 % de nos tÃ©lÃ©phones ont un grade premium)\\nCoque : Peut prÃ©senter des micro-rayures Ã\\xa0 peine visibles (invisibles Ã\\xa0 20 cm).\\nAppareil : TestÃ© et Garanti 24 mois, DÃ©bloquÃ©, Ã‰tat technique 100 % fonctionnel.\"}\n",
      "{'topic': 'Parfait Etat', 'article': \"Parfait Ã©tat:\\nÃ‰cran : 100 % Garanti d'origine Apple (ExclusivitÃ© CertiDeal). Il peut prÃ©senter des micro-rayures superficielles, invisibles une fois l'Ã©cran allumÃ©.\\nCoque : Peut prÃ©senter des micro-rayures, visibles Ã\\xa0 20 cm.\\nAppareil : TestÃ© et Garanti 24 mois, DÃ©bloquÃ©, Ã‰tat technique 100 % fonctionnel.\"}\n",
      "{'topic': 'TrÃ¨s Bon Etat', 'article': \"TrÃ¨s bon Ã©tat:\\nÃ‰cran : PrÃ©sente des micro-rayures, invisibles une fois l'Ã©cran allumÃ©.\\nCoque : Peut prÃ©senter des micro-rayures, visibles Ã\\xa0 20 cm.\\nAppareil : TestÃ© et Garanti 24 mois, DÃ©bloquÃ©, Ã‰tat technique 100 % fonctionnel.\"}\n",
      "{'topic': 'Etat Correct', 'article': 'Correct :\\nÃ‰cran : Micro-rayures visibles et Ã\\xa0 peine visibles une fois lâ€™Ã©cran allumÃ©.\\nCoque : Rayures ou impacts visibles.\\nAppareil : TestÃ© et Garanti 24 mois, DÃ©bloquÃ©, Ã‰tat technique 100 % fonctionnel.'}\n",
      "{'topic': 'Offre Ã©tudiante', 'article': \"Des rÃ©ductions pour tous les Ã©tudiants. CertiDeal vous permet de profiter de remise immÃ©diate sur l'achat d'un smartphone reconditionnÃ© grÃ¢ce Ã\\xa0 notre partenariat avec StudentBeans. Pour avoir un accÃ¨s instantanÃ© Ã\\xa0 cette rÃ©duction, inscrivez-vous et confirmez votre statut d'Ã©tudiant. C'est gratuit et super simple :). Afin de justifier votre statut Ã©tudiant, vous devez soit fournir un justificatif, soit vous connecter avec une adresse mail acadÃ©mique.\\nUne fois inscrit, vous recevez le code promo en question. Il suffira de l'insÃ©rer dans la case prÃ©vu Ã\\xa0 cet effet, au moment du panier.\\nMoins 10â‚¬ pour toi et moins 56Kg de CO2 pour la planÃ¨te chez CertiDeal!\\nCette offre est rÃ©servÃ©e aux Ã©tudiants, inscrits en Ã©tudes supÃ©rieurs. Elle est valable une seule fois par utilisateur et ne peut Ãªtre cumulÃ©e avec d'autres offres ou promotions en cours. La remise est valide sur tous les produits disponibles sur notre site Ã\\xa0 partir de 150 â‚¬ d'achat :)\"}\n",
      "{'topic': 'Satisfait ou remboursÃ©', 'article': \"Chez Certideal, vous disposez de 21 jours pour tester votre appareil !\\nSi vous changez d'avis, que vous souhaitez vous rÃ©tracter, vous pouvez demander un retour soit par mail Ã\\xa0 hello@certideal.com, soit par rendez-vous tÃ©lÃ©phonique via certideal.com/rdv , soit sur le chat en ligne.\\nCertideal vous envoie un bon prÃ©payÃ© Colissimo, ainsi que la procÃ©dure Ã\\xa0 suivre pour renvoyer l'appareil. Il est nÃ©cessaire de renvoyer l'appareil dans l'Ã©tat d'origine :)\\nCertideal prend en charge le retour si l'appareil n'est pas conforme. Vous devez retourner le produit au plus tard dans les 14 jours suivant l'envoi de votre rÃ©tractation.\\nC'est l'intÃ©gralitÃ© de votre commande qui sera remboursÃ©e, frais de port et options supplÃ©mentaires si vous les aviez commandÃ©s.\\nBien sÃ»r, si vous souhaitez demander un Ã©change ou un diagnostic, si vous estimez que l'appareil n'est pas conforme, vous bÃ©nÃ©ficiez de la garantie 24 mois. L'appareil sera alors rÃ©parÃ© ou Ã©changÃ© selon le cas. :)\"}\n",
      "{'topic': 'Mode de paiement', 'article': \"Sur Certideal, vous pouvez payer vos achats par carte bancaire de maniÃ¨re totalement sÃ©curisÃ©e par le systÃ¨me 3D Secure (code envoyÃ© par SMS nÃ©cessaire pour valider le payement).\\nLe paiement en 3 ou 4 fois est Ã©galement disponible avec notre partenaire Cetelem. Lorsque vous Ãªtes sur la page de paiement, il vous suffit de choisir le paiement en 3 ou 4 fois et de suivre les instructions. L'appareil est envoyÃ© juste aprÃ¨s le premier paiement. Ensuite vous Ãªtes prÃ©levÃ© tous les mois :)\"}\n",
      "{'topic': 'Paiement en plusieurs fois', 'article': 'Vous avez la possibilitÃ© de payer votre commande en 3 ou 4 fois sur le site. Il vous suffit pour cela de sÃ©lectionner cette option une fois sur la page de paiement et de suivre les instructions. Le tÃ©lÃ©phone sera envoyÃ© juste aprÃ¨s le premier paiement puis vous serez prÃ©levÃ© les mois suivants du montant de vos Ã©chÃ©ances :)'}\n",
      "{'topic': 'Facture', 'article': \"Une facture est envoyÃ©e automatiquement par mail Ã\\xa0 chaque client le jour de l'expÃ©dition de la commande. Si aprÃ¨s rÃ©ception, ce document ne vous est toujours pas parvenu, vous pouvez le tÃ©lÃ©charger depuis votre espace CertiDeal directement, dans votre historique de commande.\\nSi vous avez fait une erreur sur le nom, ou l'adresse, et que vous souhaitez la corriger, adressez nous un mail Ã\\xa0 hello@certideal.com\"}\n",
      "{'topic': 'EtanchiÃ©tÃ©', 'article': \"En tant que produit reconditionnÃ©, l'Ã©tanchÃ©itÃ© n'est pas garantie.\\nDurant le reconditionnement les appareils sont parfois ouverts afin que des tests soient effectuÃ©s. Dans ce cas l'Ã©tanchÃ©itÃ© n'est pas garantie sur les produits reconditionnÃ©s vendus sur Certideal. De maniÃ¨re gÃ©nÃ©rale, l'Ã©tanchÃ©itÃ© des produits diminue largement durant la vie des produits\"}\n",
      "{'topic': 'Frais de livraison', 'article': \"Chez CertiDeal, vous avez deux modes de livraisons :\\nLa livraison en point relais qui s'Ã©lÃ¨ve Ã\\xa0 3,90 â‚¬.\\nLa livraison Ã\\xa0 domicile qui coÃ»te 5,90â‚¬.\"}\n",
      "{'topic': 'Transporteurs partenaires', 'article': 'Notre partenaire pour les expÃ©ditions en France mÃ©tropolitaine est Chronopost. La livraison se fait le matin avant 13h. Pour les expÃ©ditions parisiennes, nous pouvons livrer gratuitement par coursier sur demande.'}\n",
      "{'topic': 'Livraison en point relais', 'article': \"Vous pouvez vous faire livrer en point relais ! Au moment de renseigner votre adresse de livraison, vous avez le choix d'Ãªtre livrÃ© Ã\\xa0 votre domicile ou en point relais.\\nVous renseignez votre adresse et notre site vous propose plusieurs points relais Ã\\xa0 proximitÃ©. La livraison en point relais est vivement recommandÃ©e par CertiDeal. Elle vous permet de rÃ©cupÃ©rer votre produit selon vos disponibilitÃ©s.\"}\n",
      "{'topic': 'DÃ©lais de livraison', 'article': \"Le dÃ©lai d'expÃ©dition figure sur chaque fiche produit. Il est de 2 ou 6 jours ouvrÃ©s selon les produits. Le dÃ©lai renseignÃ© correspond au dÃ©lai maximal pour lequel nous nous engageons Ã\\xa0 livrer votre produit. Dans une vaste majoritÃ© des cas, votre produit sera expÃ©diÃ© avant l'Ã©chÃ©ance de ce dÃ©lai. AprÃ¨s expÃ©dition, notre transporteur Chronopost s'engage Ã\\xa0 vous livrer en 24 heures en France mÃ©tropolitaine.\"}\n",
      "{'topic': 'Suivi de commande', 'article': \"Vous pouvez Ã\\xa0 tout moment suivre l'avancÃ©e de votre commande dans votre espace personnel dans la rubrique Â« mes achats Â». Vous y trouverez votre rÃ©fÃ©rence commande composÃ©e de 9 lettres en majuscule et le statut d'avancement de votre commande.\\nIl existe plusieurs types de statuts :\\nCommande validÃ©e : Votre commande a bien Ã©tÃ© prise en compte par nos Ã©quipes. Elle est en cours de prÃ©paration et n'est pas encore partie.\\nAchat en cours d'expÃ©dition : Votre smartphone est en cours d'embarquement vers chez vous ! On le fait tout beau et on l'Ã©quipe pour le voyage. DÃ©collage imminent\\nCommande traitÃ©e : Votre tÃ©lÃ©phone a Ã©tÃ© pris en charge par notre transporteur et est en cours de livraison. Encore un peu de patience, il arrive bientÃ´t !\"}\n",
      "{'topic': \"Modifier l'adresse de livraison\", 'article': \"DÃ¨s 24 heures aprÃ¨s la commande, modifier l'adresse de livraison devient complexe et dÃ©pend de l'Ã©tat d'avancement de la commande. En cas d'extrÃªme impossibilitÃ© de rÃ©ceptionner le colis Ã\\xa0 l'adresse originellement communiquÃ©e, nous vous invitons Ã\\xa0 nous contacter par mail Ã\\xa0 hello@certideal.com .\\nCommuniquez la nouvelle adresse souhaitÃ©e directement dÃ¨s le premier Ã©change. Notre Ã©quipe fera son maximum pour modifier l'adresse avant envoi ou bloquer puis rediriger le colis si celui-ci a dÃ©jÃ\\xa0 Ã©tÃ© expÃ©diÃ©.\"}\n",
      "{'topic': 'Suivi de livraison', 'article': 'Lors de son expÃ©dition par nos soins, vous avez reÃ§u un mail de confirmation avec le numÃ©ro de suivi du transporteur. GrÃ¢ce Ã\\xa0 numÃ©ro de suivi, vous pouvez suivre en temps rÃ©el le trajet de votre commande sur le site de Chronopost.'}\n",
      "{'topic': \"Statut commande `en cours d'acheminement`\", 'article': \"Votre commande est dÃ©jÃ\\xa0 partie de chez nous et a Ã©tÃ© prise en charge par le transporteur mais le suivi vous indique que sa position n'a pas bougÃ© depuis un moment. Dans ce cas, contactez-nous via votre espace Certideal avec pour objet [livraison-statut non mis Ã\\xa0 jour]. Nous contacterons Chronopost pour connaÃ®tre plus de dÃ©tails sur sa position et dÃ©bloquer la situation.\"}\n",
      "{'topic': 'Statut commande `livrÃ©`', 'article': \"Dans ce type de cas, il est difficile de dÃ©finir ce qui s'est passÃ© lors de la livraison. Une chose est sÃ»re, vous n'avez toujours pas votre colis alors que le suivi le note livrÃ©. Dans ce cas, nous devons lancer une enquÃªte auprÃ¨s de notre transporteur. Merci de nous informer par mail Ã\\xa0 l'adresse hello@certideal.com avec pour objet [enquÃªte transporteur ' documents justificatifs],  nous vous enverrons ainsi un modÃ¨le de lettre de dÃ©nÃ©gation que vous devrez remplir et nous renvoyer avec votre piÃ¨ce d'identitÃ© recto verso.\\nL'enquÃªte peut prendre jusqu'Ã\\xa0 30 jours au terme desquels nous vous renverrons un produit, ou lancerons un remboursement en fonction de votre volontÃ©. Nous relancerons le transporteur rÃ©guliÃ¨rement pour obtenir une rÃ©ponse au plus vite, nous vous accompagnerons Ã\\xa0 chaque Ã©tape et serons disponible pour des informations complÃ©mentaires.\"}\n",
      "{'topic': 'Service AprÃ¨s-Vente', 'article': \"Certideal reste Ã\\xa0 vos cÃ´tÃ©s pendant 24 mois aprÃ¨s l'achat de votre smartphone.\"}\n",
      "{'topic': 'Emballage pour retour', 'article': \"Emballez votre smartphone dans un carton. IntÃ©grez votre smartphone dans un carton, pour assurer une protection optimale. Si vous n'avez pas de carton, essayez de vous rapprocher des commerÃ§ants autour de chez vous !\\nDe plus, gardez vos accessoires (cable, prise murale, coque, Ã©couteurs), ne les renvoyez pas avec le smartphone.\\nPour Ã©viter que votre smartphone ne bouge Ã\\xa0 l'intÃ©rieur de votre carton, l'idÃ©e est de rembourrer les espaces vides, avec du papier journal par exemple, ou du papier bulle si vous en avez Ã\\xa0 disposition !\\nFermez le carton et collez le bordereau. DÃ©posez-le Ã\\xa0 la Poste, et ils se chargeront du reste !\"}\n",
      "{'topic': 'Garantie', 'article': \"La garantie Certideal est tout Ã\\xa0 fait similaire Ã\\xa0 la garantie constructeur. Toutes les pannes indÃ©pendantes de votre utilisation sont prises en charge, voici la liste des soucis pris en charge :)\\nRÃ©seau\\nwifi\\nbluetooth\\nson haut parleur, Ã©couteurs internes, micro\\nappareil photo (avant et arriÃ¨re) / Flash\\ntactile\\nconnecteur de charge\\nface ID\\touch ID\\nvibreur\\nle tÃ©lÃ©phone ne s'allume plus\\nla batterie est garantie 3 mois (12 mois si vous avez choisis l'option Batterie neuve)\\n Pour rÃ©sumer, si vous faites tomber votre tÃ©lÃ©phone dans l'eau, ou que vous le faites tomber du 3Ã¨me Ã©tage, ce n'est pas pris en garantie. Si la panne n'est pas liÃ©e Ã\\xa0 votre utilisation directement, c'est pris en charge :)\"}\n",
      "{'topic': 'microphone / haut-parleur', 'article': \"Il s'agit gÃ©nÃ©ralement d'une panne matÃ©rielle, mais pour Ã©viter un retour qui mobilisera votre appareil 7 jours, nous vous invitons Ã\\xa0 vÃ©rifier qu'il ne s'agit pas d'un excÃ©dent de poussiÃ¨re.\\nAstuce : Munissez vous d'une brosse Ã\\xa0 dent humide et tapotez la zone concernÃ©e (haut parleur, micro, sortie son lors des appels situÃ© Ã\\xa0 cotÃ© de l'appareil photo frontal)\\nNous espÃ©rons avoir rÃ©solu le problÃ¨me. Si ce n'est pas le cas, nous ouvrirons une procÃ©dure de retour.\"}\n",
      "{'topic': 'Le produit ne correspond pas Ã\\xa0 la commande', 'article': \"Vous avez rÃ©ceptionnÃ© votre colis mais le produit ne correspond pas Ã\\xa0 la commande que vous avez passÃ©. Ce type de cas est extrÃªmement rare mais l'erreur est humaine. Vous pouvez dÃ©clarer ce problÃ¨me dans votre espace personnel, en cliquant sur la commande en question puis sur `SAV`. On distingue 4 cas diffÃ©rents de non-conformitÃ© : \\nLe produit n'est pas de la bonne couleur. Vous avez la possibilitÃ© de garder le produit et Ãªtre dÃ©dommagÃ©, ou de demander un Ã©change\\nLe modÃ¨le de smartphone n'est pas le bon. Dans ce cas, nous vous proposons immÃ©diatement un Ã©change.\\nLe produit n'est pas de la bonne capacitÃ©. LÃ\\xa0 aussi, nous lanÃ§ons immÃ©diatement une procÃ©dure d'Ã©change\\nLe produit n'est pas du bon grade esthÃ©tique. Pour ce type de rÃ©clamation, nous devons examiner au prÃ©alable le bien-fondÃ© de votre demande avant d'y donner suite. Merci de nous envoyer des photos de votre produit par email Ã\\xa0 l'adresse suivante hello@certideal.com sans oublier de prÃ©ciser dans l'objet du message la rÃ©fÃ©rence de votre commande.\"}\n",
      "{'topic': 'Pourquoi revendre son ancien smartphone', 'article': \"En revendant votre Smartphone Ã\\xa0 CertiDeal, vous faÃ®tes un geste qui est bon pour la planÃ¨te et pour vos finances. Les tÃ©lÃ©phones de secours, conservÃ©s par leurs propriÃ©taires lors de l'achat d'un nouvel appareil, deviendraient dÃ©fectueux en l'espace de quelques mois. Ainsi, ils ne seraient plus jamais utilisÃ©s et resteraient abandonnÃ©s Ã\\xa0 leur triste sort dans un tiroir.\\nAlors, faÃ®tes un geste pour la planÃ¨te et pour vos finances : sauvez votre ancien tÃ©lÃ©phone ! Donnez-lui une nouvelle vie : CertiDeal se charge de lui offrir une retraite bien mÃ©ritÃ©e et d'en prendre soin !\\nAccÃ©dez Ã\\xa0 notre offre de reprise grÃ¢ce au lien suivant : https://certideal.com/vendre-mon-smartphone.\"}\n",
      "{'topic': 'Est-ce que je dois acheter un tÃ©lÃ©phone CertiDeal pour revendre mon ancien appareil ?', 'article': \"Notre offre de reprise n'est pas conditionnÃ©e Ã\\xa0 l'achat d'un nouvel appareil, vous pouvez donc y accÃ©der sans passer commande chez nous. CertiDeal vous proposera un prix correspondant aux critÃ¨res que vous avez renseignÃ©s (modÃ¨le, Ã©tat, capacitÃ©).\\nPour accÃ©der Ã\\xa0 notre offre de reprise de votre appareil, nous vous invitons Ã\\xa0 cliquer sur le lien suivant : https://certideal.com/vendre-mon-smartphone\"}\n",
      "{'topic': 'Origines des smartphones reconditionnÃ©', 'article': \"Notre service achat s'approvisionne auprÃ¨s d'opÃ©rateurs qui reprennent des smartphones n'ayant connu qu'un seul et unique propriÃ©taire. Chacun des produits reconditionnÃ©s mis Ã\\xa0 la vente sur notre site est alors rÃ©cupÃ©rÃ© physiquement par nos soins et suit dans nos locaux un processus d'homologation fonctionnelle : vÃ©rification, test et validation.\\nNos experts sont ainsi les premiers Ã\\xa0 intervenir techniquement sur le produit, que nous reconditionnons nous-mÃªmes en interne, sans autre intermÃ©diaire.\"}\n",
      "{'topic': 'Pourquoi acheter un iPhone reconditionnÃ© ?', 'article': \"Le principal avantage de l'achat d'un iPhone reconditionnÃ© reste l'Ã©conomie rÃ©alisÃ©e par rapport Ã\\xa0 un modÃ¨le neuf disponible Ã\\xa0 un prix exorbitant. L'iPhone reconditionnÃ© est moins cher et tout aussi fonctionnel.\\nMais acheter reconditionnÃ© revient aussi Ã\\xa0 faire un geste Ã©cologique : acheter un nouveau tÃ©lÃ©phone neuf reprÃ©sente la mÃªme dÃ©pense d'Ã©nergie que de le recharger et de l'utiliser pendant dix ans.\\nEn somme, acheter reconditionnÃ©, c'est Ãªtre Ã©conome pour son portefeuille et pour la planÃ¨te.\"}\n",
      "{'topic': \"Puis-je bÃ©nÃ©ficier de la remise Free tout au long de l'annÃ©e?\", 'article': \"En souscrivant un forfait mobile Free, vous pourrez bÃ©nÃ©ficier de la remise de 5% minimum sur l'achat de votre smartphone CertiDeal Ã\\xa0 tout moment de l'annÃ©e, dans la limite d'un smartphone par an et par forfait.\"}\n",
      "{'topic': 'Offre Free Mobile', 'article': \"Si vous Ãªtes abonnÃ© mobile Forfait Free ou SÃ©rie Free, vous bÃ©nÃ©ficiez de tarifs exclusifs sur CertiDeal. Pour profiter de l'offre, il suffit de vous connecter sur votre espace AbonnÃ© mobile Free, rubrique Mon compte -> Mon avantage.\\nSi vous n'Ãªtes pas encore abonnÃ© mobile Free, vous pouvez aussi bÃ©nÃ©ficier de l'offre exclusive CertiDeal avec Free Pour cela :\\nChoisissez votre smartphone incluant les 5 % de remise minimum sur abonnÃ©s.certideal.com et valider votre panier sur CertiDeal. AprÃ¨s le paiement, vous serez redirigÃ© automatiquement sur le site mobile Free pour souscrire votre forfait.\"}\n",
      "{'topic': 'Qui est CertiDeal?', 'article': \"CertiDeal est le site e-commerce leader de vente de smartphones reconditionnÃ©s en France.\\nLancÃ© fin 2015, CertiDeal a dÃ©jÃ\\xa0 convaincu plus de 500,000 clients d'acheter un smartphone plus respectueux pour la planÃ¨te, et figure, pour la troisiÃ¨me fois, sur la liste des FT120 (FrenchTech 120)\\nCertiDeal se diffÃ©rencie par un laboratoire d'experts internalisÃ©s qui permet de tester chaque produit avec une certification unique en Europe et de proposer une garantie exceptionnelle de 24 mois sur tous leurs produits.\\nCe leader sur le marchÃ© du smartphone reconditionnÃ© est implantÃ© en Espagne, Italie, et Belgique, SuÃ¨de, et Portugal.\"}\n",
      "{'topic': 'Naissance de Certideal', 'article': \"Lâ€™aventure Certideal, spÃ©cialiste du reconditionnement, a commencÃ© en 2015, lorsque les fondateurs de Certideal ont dÃ» acheter, dans leur cadre professionnel, plusieurs smartphones et tablettes d'occasion pour des tests d'application et les reconditionner.\\nDifficile pour Laure et Yoann de trouver un service fiable et sÃ©curisant, et des produits high-tech qui soient Ã\\xa0 la fois trÃ¨s bon marchÃ© et de bonne qualitÃ©. Conscients de lâ€™impact Ã©cologique des produits high-tech, ils se sont tournÃ©s vers les tÃ©lÃ©phones reconditionnÃ©s. Cependant, leur dÃ©ception devant la rÃ©ception de produits non conformes a poussÃ© leur rÃ©flexion sur les amÃ©liorations potentielles du marchÃ© du reconditionnÃ©. Ils ont alors dÃ©cidÃ© de transformer le marchÃ© du reconditionnÃ© en apportant leur expertise et leurs exigences de qualitÃ©.\\nCâ€™est ainsi que lâ€™idÃ©e Certideal est nÃ©e : un site de vente de produits high-tech reconditionnÃ©s, vÃ©rifiÃ©s et validÃ©s, qui bÃ©nÃ©ficient de longues garanties, Ã©gales Ã\\xa0 celles du marchÃ© du neuf, mais qui font du bien Ã\\xa0 notre planÃ¨te.\"}\n",
      "{'topic': 'Une garantie de prix juste', 'article': 'Parce que nous sommes conscients que lâ€™achat dâ€™un tÃ©lÃ©phone est onÃ©reux, nous mettons tout en oeuvre pour vous proposer les meilleurs prix du marchÃ© sur nos produits. Chez Certideal, impossible de faire une mauvaise affaire !'}\n",
      "{'topic': 'Des produits contrÃ´lÃ©s et validÃ©s', 'article': 'Pas dâ€™inquiÃ©tude cependant : chez nous, petit prix est loin dâ€™Ãªtre synonyme de qualitÃ© mÃ©diocre. Nous avons Ã\\xa0 coeur de vous proposer des produits high-tech dont la qualitÃ© est irrÃ©prochable. Câ€™est dâ€™ailleurs pour cela que nous pouvons nous permettre dâ€™inclure avec chacun de nos tÃ©lÃ©phones une garantie de 24 mois : nous sommes certains de la qualitÃ© des produits que nous vendons. Nos experts techniques vÃ©rifient lâ€™Ã©tat esthÃ©tique du tÃ©lÃ©phone, et testent chacuns des 30 points de contrÃ´le que nous avons dÃ©finis. Cette exigence que nous nous fixons est garante pour vous de produits dont la qualitÃ© est irrÃ©prochable'}\n",
      "{'topic': \"Processus d'approbation: Test des produits\", 'article': 'Lors du test du produit, Certideal analyse la qualitÃ© fonctionnelle du tÃ©lÃ©phone reconditionnÃ©.\\nChaque tÃ©lÃ©phone est testÃ© rigoureusement sur 32 points de contrÃ´le. Ces tests sont effectuÃ©s dans nos locaux par nos Ã©quipes techniques qui sont formÃ©es au contrÃ´le fonctionnel et esthÃ©tique des tÃ©lÃ©phones reconditionnÃ©s.\\nCâ€™est la garantie dâ€™une sÃ©rÃ©nitÃ© Ã\\xa0 lâ€™achat et Ã\\xa0 la rÃ©ception du produit reconditionnÃ© pour nos clients : il sera conforme Ã\\xa0 la description, en parfait Ã©tat de marche et prÃªt Ã\\xa0 vivre une seconde vie Ã\\xa0 vos cÃ´tÃ©s.'}\n",
      "{'topic': 'Reconditionnement en France', 'article': ' CertiDeal est aujourdâ€™hui connu comme le reconditionneur le plus franÃ§ais du marchÃ©. Cette rÃ©putation qui fait notre fiertÃ©, tient principalement au fait que lâ€™ensemble de nos techniciens travaillent au sein dans notre atelier en rÃ©gion parisienne. Participant Ã\\xa0 cette internalisation qui nous est chÃ¨re, ils reconditionnent eux-mÃªmes lâ€™intÃ©gralitÃ© de nos smartphones'}\n",
      "{'topic': 'Des offres rÃ©volutionnaires', 'article': \" En achetant chez CertiDeal, le client dispose ainsi de prix compÃ©titifs en ligne avec le marchÃ© du reconditionnÃ©. Notre catalogue prÃ©sente des appareils jusqu'Ã\\xa0 70% moins cher que les produits neufs. Cette flexibilitÃ© budgÃ©taire est en partie possible par lâ€™Ã©ventail de grades esthÃ©tiques que nous proposons. Il existe en effet cinq grades pour chaque rÃ©fÃ©rence : Imparfaits, Correct, TrÃ¨s bon Ã©tat, Parfait Ã©tat, Premium.\"}\n",
      "{'topic': 'CertiAcadÃ©mie - Engagement humain et social', 'article': \"CertiAcadÃ©mie est une initiative sociale et solidaire qui donne la possibilitÃ© aux personnes en situation d'exclusion, de rÃ©insertion, ou en reconversion professionnelle de pouvoir se former aux bases des mÃ©tiers du reconditionnement en Ã©tant encadrÃ© par des professionnels.  En achetant chez CertiDeal nos clients participent ainsi activement au soutien dâ€™une entreprise qui agit concrÃ¨tement pour lâ€™amÃ©lioration de la sociÃ©tÃ©\"}\n",
      "{'topic': 'iPhone 14 Pro Max', 'article': \"GrÃ¢ce Ã\\xa0 sa taille, Ã\\xa0 la vitesse de son processeur, Ã\\xa0 l'autonomie de sa batterie et Ã\\xa0 sa triple camÃ©ra arriÃ¨re, l'iPhone 14 Pro Max, lancÃ© en Septembre 2022, est le tÃ©lÃ©phone idÃ©al pour tous ceux qui recherchent un smartphone Ã\\xa0 usage professionnel. En gÃ©nÃ©ral, les plus grandes diffÃ©rences par rapport Ã\\xa0 la version Pro se situent au niveau de la taille de l'Ã©cran et de l'autonomie de la batterie\"}\n",
      "{'topic': 'iPhone 14 Pro', 'article': \"iPhone 14 Pro, lancÃ© en Septembre 2022, est certainement parfait pour ceux qui recherchent un appareil pour travailler, regarder des vidÃ©os et des films, mais en mÃªme temps ergonomique et facile Ã\\xa0 tenir. Les dimensions de cet appareil sont en fait un croisement entre la version de base et les versions Plus et Pro Max. De plus, par rapport Ã\\xa0 l'iPhone 14 et 14 Plus, le secteur photographique prÃ©sente d'autres amÃ©liorations. A noter Ã©galement la prÃ©sence d'un nouveau processeur, qui rend l'appareil encore plus fluide et rÃ©actif.\\nProfitez de toutes ces innovations Ã\\xa0 bon prix en achetant votre nouvel iPhone 14 Pro sur CertiDeal. Tous nos appareils sont testÃ©s sur plus de 30 points de contrÃ´le et bÃ©nÃ©ficient d'une garantie de 24 mois. Nous avons Ã©galement prolongÃ© la pÃ©riode de retour de 14 Ã\\xa0 21 jours pour vous donner suffisamment de temps pour essayer l'appareil.\"}\n",
      "{'topic': 'iPhone 14 Plus', 'article': \"L'iPhone 14 Plus, lancÃ© en Septembre 2022, est certainement l'un des modÃ¨les les plus performants d'Apple. L'une des principales caractÃ©ristiques est certainement la taille de l'Ã©cran, qui est la mÃªme que la version Pro Max de la mÃªme gamme, et est parfaite pour ceux qui aiment regarder des vidÃ©os ou des films sur leur tÃ©lÃ©phone ou pour ceux qui l'utilisent pour travailler. Un autre point fort est la durÃ©e de vie de la batterie, qui atteint jusqu'Ã\\xa0 100 heures de lecture audio. Dans l'ensemble, c'est un excellent appareil, en particulier pour ceux qui utilisent beaucoup leur tÃ©lÃ©phone pendant la journÃ©e.\"}\n",
      "{'topic': 'iPhone 14', 'article': \"L'iPhone 14 est une amÃ©lioration par rapport au modÃ¨le de base de la sÃ©rie prÃ©cÃ©dente, grÃ¢ce Ã\\xa0 l'appareil photo amÃ©liorÃ©, au GPU Ã\\xa0 5 cÅ“urs et Ã\\xa0 une plus grande autonomie de la batterie. Il s'agit d'un appareil haut de gamme, adaptÃ© Ã\\xa0 tous, mais surtout aux utilisateurs de smartphones professionnels ou Ã\\xa0 ceux qui aiment prendre des photos.\"}\n",
      "{'topic': 'iPhone 13 Pro Max', 'article': \"L'iPhone 13 Pro Max, lancÃ© en Septembre 2021, est certainement l'un des meilleurs smartphones du marchÃ©, avec un Ã©cran spectaculaire, un design Ã©lÃ©gant et un appareil photo exceptionnel. La puissance du processeur A15 Bionic et l'autonomie de la batterie sont Ã©galement impressionnantes. MalgrÃ© le prix Ã©levÃ©, la valeur de l'investissement est Ã©vidente grÃ¢ce Ã\\xa0 la combinaison de fonctionnalitÃ©s avancÃ©es et de performances supÃ©rieures. Si vous recherchez un appareil haut de gamme avec des fonctionnalitÃ©s avancÃ©es, l'iPhone 13 Pro Max vaut vraiment la peine d'Ãªtre considÃ©rÃ©.\\nSi vous souhaitez profiter de cet appareil pour prendre des photos ou filmer vos moments les plus mÃ©morables, l'achat d'un smartphone reconditionnÃ© chez CertiDeal est la bonne solution pour vous. Nous proposons des appareils qui ont Ã©tÃ© vÃ©rifiÃ©s par des experts et qui sont jusqu'Ã\\xa0 70 % moins chers que leurs Ã©quivalents neufs.\"}\n",
      "{'topic': 'iPhone 13 Pro', 'article': \"Le nouvel iPhone 13 Pro, lancÃ© en Septembre 2021, offre un Ã©cran OLED de haute qualitÃ© avec la technologie ProMotion, une triple camÃ©ra arriÃ¨re de qualitÃ© professionnelle et un design Ã©lÃ©gant avec un cadre en acier inoxydable. La batterie a une durÃ©e de vie plus longue et le processeur A15 Bionic offre des performances exceptionnelles. Si vous recherchez un appareil haut de gamme avec des fonctionnalitÃ©s avancÃ©es, l'iPhone 13 Pro est le choix idÃ©al.\\nProfitez de toutes ces caractÃ©ristiques au meilleur prix avec CertiDeal. Nos Ã©quipes vÃ©rifient et remettent en Ã©tat des appareils qui ont subi plus de 30 points de contrÃ´le. Vous pouvez ainsi profiter d'un appareil en parfait Ã©tat, moins cher et garanti 24 mois.\"}\n",
      "{'topic': 'iPhone 13 Mini', 'article': \"L'iPhone 13 Mini, lancÃ© en Septembre 2021, offre des performances exceptionnelles et un Ã©cran OLED de haute qualitÃ© dans un format compact. L'appareil photo a Ã©tÃ© considÃ©rablement amÃ©liorÃ© et la batterie a une plus grande autonomie. Si vous recherchez un petit iPhone sans sacrifier les fonctionnalitÃ©s, le 13 mini est le bon choix.\\nDe plus, si vous achetez un smartphone reconditionnÃ© chez CertiDeal, vous pourrez profiter de toutes ses fonctionnalitÃ©s Ã\\xa0 moindre coÃ»t. Nos appareils sont contrÃ´lÃ©s par des experts et garantis pour une durÃ©e Ã©quivalente Ã\\xa0 celle d'un appareil neuf, c'est-Ã\\xa0-dire 24 mois.\"}\n",
      "{'topic': 'iPhone 13', 'article': \"En termes de performances, l'iPhone 13, lancÃ© en Septembre 2021, est incontestablement un cran au-dessus de l'iPhone 12 prÃ©cÃ©dent, grÃ¢ce Ã\\xa0 l'appareil photo amÃ©liorÃ©, Ã\\xa0 l'autonomie plus longue et au nouveau processeur A15 Bionic. En revanche, l'iPhone 12 est moins cher. En termes de comparaison avec les versions Pro et Pro Max de la mÃªme sÃ©rie, le seul avantage que nous trouvons par rapport au 13 est sans aucun doute l'appareil photo, cependant, Ã\\xa0 moins que vous n'utilisiez l'appareil de maniÃ¨re professionnelle, le modÃ¨le de base est plus que suffisant.\\nDans l'ensemble, ce modÃ¨le est certainement un excellent appareil pour ceux qui recherchent un smartphone rapide avec une bonne autonomie et des appareils photo de qualitÃ©.\\nProfitez de toutes ces caractÃ©ristiques au meilleur prix avec CertiDeal. Nos Ã©quipes vÃ©rifient et remettent en Ã©tat des appareils qui ont subi plus de 32 points de contrÃ´le. Vous pouvez ainsi profiter d'un appareil en parfait Ã©tat, moins cher et garanti 24 mois.\"}\n",
      "{'topic': 'iPhone SE 2022', 'article': \"L'iPhone SE 2022, lancÃ© en Mars 2022, est un excellent appareil pour ceux qui recherchent un appareil de haute qualitÃ© Ã\\xa0 un prix abordable. Le design classique et compact de l'iPhone SE permet de l'utiliser facilement d'une seule main, tandis que le processeur A15 Bionic et l'appareil photo arriÃ¨re de 12 mÃ©gapixels offrent des performances Ã©levÃ©es. La batterie dure suffisamment longtemps et prend en charge la recharge sans fil. Bien qu'il soit dÃ©pourvu de certaines des fonctionnalitÃ©s avancÃ©es des modÃ¨les phares d'Apple, l'iPhone SE 2022 offre une expÃ©rience utilisateur fluide et fiable. Dans l'ensemble, il s'agit d'un excellent investissement pour ceux qui recherchent un iPhone abordable mais performant.\\nProfitez de toutes ces caractÃ©ristiques au meilleur prix avec CertiDeal. Nos Ã©quipes inspectent et reconditionnent les appareils en les testant sur plus de 30 points de contrÃ´le. Vous bÃ©nÃ©ficierez alors d'un appareil 100% fonctionnel, abordable et garanti 24 mois.\"}\n",
      "{'topic': 'iPhone 12 Pro Max', 'article': \"L'iPhone 12 Pro Max, lancÃ© en Octobre 2020, est l'un des meilleurs appareils d'Apple. L'appareil photo est excellent et convient Ã©galement Ã\\xa0 un usage professionnel. L'Ã©cran et le son permettent Ã\\xa0 l'appareil de travailler et de regarder des vidÃ©os ou des films sans problÃ¨me. Enfin, le processeur est le mÃªme que les deux autres modÃ¨les de la gamme, mais offre une fluiditÃ© et une rapiditÃ© excellentes.\\nPour bÃ©nÃ©ficier de tous ces avantages sans trop dÃ©penser, l'idÃ©al est d'opter pour un smartphone reconditionnÃ© chez CertiDeal. Nos Ã©quipes effectuent un contrÃ´le complet de chaque smartphone et le garantissent pendant 24 mois. Cerise sur le gÃ¢teau : nous livrons nos clients sous 48 heures.\"}\n",
      "{'topic': 'iPhone 12 Pro', 'article': \"L'iPhone 12 Pro est un appareil haut de gamme qui est toujours d'actualitÃ©, malgrÃ© son lancement en 2020. L'autonomie de la batterie est suffisamment longue pour tenir toute la journÃ©e et le puissant processeur assure rapiditÃ© et fluiditÃ©, mÃªme en jouant Ã\\xa0 des jeux ou en mettant l'appareil Ã\\xa0 rude Ã©preuve. L'un des avantages de l'iPhone 12 Pro par rapport au modÃ¨le de base est certainement son trÃ¨s grand Ã©cran, idÃ©al pour ceux qui utilisent l'appareil pour regarder des vidÃ©os et des films ou travailler avec leur tÃ©lÃ©phone, et le systÃ¨me Ã\\xa0 triple camÃ©ra, qui permet de prendre des photos de meilleure qualitÃ©.\\nQue se passe-t-il si vous achetez un iPhone 12 Pro reconditionnÃ© ? Les smartphones reconditionnÃ©s de CertiDeal passent par plus de 30 points de contrÃ´le et sont garantis 24 mois. De plus, vous bÃ©nÃ©ficiez de notre service client et recevez votre colis Ã\\xa0 domicile dans les 48/72 heures.\"}\n",
      "{'topic': 'iPhone 12', 'article': \"L'iPhone 12 est un appareil de qualitÃ© pour ceux qui recherchent un appareil haut de gamme Ã\\xa0 un prix infÃ©rieur aux derniers modÃ¨les. Les appareils photo sont perfectionnÃ©s et permettent de capturer tous les dÃ©tails, la batterie permet de tenir toute la journÃ©e et le processeur assure une fluiditÃ© dans l'utilisation de l'appareil.\\nVous voulez profiter de ces technologies ? Alors n'hÃ©sitez pas et achetez un smartphone reconditionnÃ© sur notre site CertiDeal. Nous vous proposons des appareils vÃ©rifiÃ©s par des experts basÃ©s en France et garantis 24 mois.\"}\n",
      "{'topic': 'iPhone 12 Mini', 'article': \"L'iPhone 12 mini est un appareil compact et maniable, mais puissant. La batterie est infÃ©rieure Ã\\xa0 celle des autres modÃ¨les de la gamme, mais permet tout de mÃªme de tenir jusqu'au soir sans problÃ¨me. L'Ã©cran est de qualitÃ©, tout comme les appareils photo qui sont identiques Ã\\xa0 ceux de l'iPhone 12. De plus, comme les autres modÃ¨les sortis la mÃªme annÃ©e, il dispose d'une puce A14 Bionic qui garantit la rapiditÃ© et la fluiditÃ© de l'appareil.\\nVous Ãªtes tentÃ© ? Pourquoi ne pas acheter l'un de nos iPhone 12 mini ? Les smartphones reconditionnÃ©s de CertiDeal subissent pas moins de 30 points de contrÃ´le et sont livrÃ©s sous 48 heures.\"}\n",
      "{'topic': 'iPhone SE 2020', 'article': \"L'iPhone SE 2020 est un excellent appareil Ã\\xa0 un prix abordable. Bien qu'il soit beaucoup plus compact que les modÃ¨les haut de gamme, il offre d'excellentes performances grÃ¢ce Ã\\xa0 la puissante puce A13 Bionic qui le rend rÃ©actif et rapide. Le design peut Ãªtre apprÃ©ciÃ© par les utilisateurs qui prÃ©fÃ¨rent un appareil plus petit et plus maniable. Il s'agit sans aucun doute de l'appareil idÃ©al pour ceux qui veulent un smartphone de qualitÃ© tout en dÃ©pensant peu.\\nPour bÃ©nÃ©ficier de toutes ces caractÃ©ristiques sans trop dÃ©penser, la meilleure solution est d'opter pour un smartphone reconditionnÃ© chez CertiDeal. En effet, nous vous proposons des appareils garantis 24 mois et vÃ©rifiÃ©s par nos experts.\"}\n",
      "{'topic': 'iPhone 11 Pro Max', 'article': \"L'iPhone 11 Pro Max, lancÃ© en Septembre 2021, est un appareil puissant dotÃ© d'un Ã©cran de haute qualitÃ©, d'un appareil photo perfectionnÃ© et d'un design Ã©lÃ©gant. L'autonomie de la batterie est remarquable, tandis que la puce A13 Bionic offre d'excellentes performances.\\nSi vous souhaitez utiliser cet appareil pour prendre des photos ou filmer vos moments les plus mÃ©morables, l'achat d'un smartphone reconditionnÃ© chez CertiDeal est la solution la plus appropriÃ©e. Nous proposons des appareils qui ont Ã©tÃ© vÃ©rifiÃ©s par des experts et qui sont jusqu'Ã\\xa0 70 % moins chers que leurs Ã©quivalents neufs.\"}\n",
      "{'topic': 'iPhone 11 Pro', 'article': \"L'iPhone 11 Pro est un appareil haut de gamme dotÃ© d'un excellent appareil photo, d'un Ã©cran de qualitÃ©, d'une autonomie amÃ©liorÃ©e par rapport aux modÃ¨les prÃ©cÃ©dents et d'un design Ã©lÃ©gant. La puissance de traitement est excellente et le prix plus abordable que les modÃ¨les ultÃ©rieurs. Pour bÃ©nÃ©ficier de ces innovations, la meilleure solution est d'acheter un smartphone reconditionnÃ©. Chez CertiDeal, nos appareils sont le rÃ©sultat de contrÃ´les professionnels effectuÃ©s par des experts. De plus, nous expÃ©dions les appareils dans les 48 heures.\"}\n",
      "{'topic': 'iPhone 11', 'article': \"L'iPhone 11 est un tÃ©lÃ©phone de qualitÃ© au design moderne et colorÃ©, dotÃ© d'un processeur rapide et d'une bonne autonomie. L'appareil photo est trÃ¨s bon et, Ã\\xa0 moins que vous ne deviez utiliser l'appareil Ã\\xa0 des fins professionnelles, il ne diffÃ¨re pas particuliÃ¨rement des modÃ¨les plus rÃ©cents. Ce modÃ¨le convient certainement Ã\\xa0 ceux qui recherchent un appareil rapide et de qualitÃ© sans trop dÃ©penser.\"}\n",
      "{'topic': 'iPhone XS Max', 'article': \"L'iPhone XS Max, lancÃ© en Septembre 2018, offre un grand Ã©cran OLED de haute qualitÃ©, une double camÃ©ra arriÃ¨re avec la technologie Smart HDR et un design Ã©lÃ©gant avec un cadre en acier inoxydable. La batterie a une autonomie dÃ©cente et le processeur A12 Bionic offre des performances rapides. Si vous recherchez un appareil haut de gamme dotÃ© de fonctionnalitÃ©s avancÃ©es et d'un grand Ã©cran, l'iPhone XS Max est un choix judicieux.\\nVous souhaitez acheter un iPhone XS Max au meilleur prix ? N'hÃ©sitez pas et achetez un smartphone reconditionnÃ© sur CertiDeal. Un tel appareil coÃ»te jusqu'Ã\\xa0 70 % moins cher qu'un appareil neuf et vous sera livrÃ© dans les 48 heures.\"}\n",
      "{'topic': 'iPhone XS', 'article': \"L'iPhone XS offre un Ã©cran OLED de haute qualitÃ©, une double camÃ©ra arriÃ¨re avec la technologie Smart HDR et un design Ã©lÃ©gant avec un cadre en acier inoxydable. La batterie a une autonomie qui atteint facilement la fin de la journÃ©e et le processeur A12 Bionic offre des performances rapides. Si vous Ãªtes Ã\\xa0 la recherche d'un appareil haut de gamme dotÃ© de fonctionnalitÃ©s avancÃ©es, mais Ã\\xa0 moindre coÃ»t, l'iPhone XS est un excellent choix.\\nVous pouvez profiter de toutes ces performances Ã\\xa0 un prix infÃ©rieur si vous dÃ©cidez d'acheter un smartphone reconditionnÃ©. De plus, cela vous permettra de rÃ©duire votre impact environnemental. Pourquoi hÃ©siter ? CertiDeal garantit une livraison dans les 48 heures pour toute commande passÃ©e sur le site.\"}\n",
      "{'topic': 'iPhone XR', 'article': \"Bien que l'iPhone XR ait Ã©tÃ© lancÃ© en 2018, il reste un appareil de qualitÃ© grÃ¢ce Ã\\xa0 son excellente autonomie, son appareil photo de qualitÃ© et ses performances fluides. Il reprÃ©sente certainement un excellent choix pour ceux qui recherchent un appareil de qualitÃ© Ã\\xa0 un prix abordable.\\nSi vous souhaitez acheter un iPhone XR au meilleur prix, rien de plus simple : choisissez un smartphone reconditionnÃ© chez CertiDeal. Nos smartphones sont testÃ©s par des experts et subissent plus de 30 contrÃ´les. De plus, ils sont expÃ©diÃ©s directement chez vous avec le plus grand soin dans les 48 heures via un transporteur.\"}\n",
      "{'topic': 'iPhone X', 'article': \"Dans l'ensemble, l'iPhone X, lancÃ© en Novembre 2017, est un appareil haut de gamme qui offre des performances exceptionnelles Ã\\xa0 tous points de vue. L'Ã©cran OLED est net et lumineux, l'appareil photo est de haute qualitÃ© et le son est puissant et clair. La batterie dure toute la journÃ©e et le processeur A11 Bionic garantit des performances fluides et rÃ©actives. En outre, son design Ã©purÃ© et moderne en fait un appareil qui attire l'attention. L'iPhone X est un produit de haute qualitÃ© qui ne dÃ©Ã§oit pas.\\nL'iPhone X est un appareil puissant. De plus, malgrÃ© sa sortie fin 2017, il bÃ©nÃ©ficie encore de toutes les mises Ã\\xa0 jour du systÃ¨me iOS et s'il est achetÃ© reconditionnÃ©, vous pouvez obtenir un iPhone X pour moins de 300 â‚¬.\"}\n"
     ]
    }
   ],
   "source": [
    "import json\n",
    "i = 0\n",
    "name = root + filenames[i]\n",
    "\n",
    "content = []\n",
    "with open(name, 'r') as f:\n",
    "    for line in f:\n",
    "        data = json.loads(line)\n",
    "        content.append(data)\n",
    "        print(data)"
   ]
  },
  {
   "cell_type": "code",
   "execution_count": 9,
   "metadata": {},
   "outputs": [
    {
     "data": {
      "text/plain": [
       "'{\"topic\":\"Batterie neuve\", \"article\":\"La batterie neuve est Ã\\xa0 18,75â‚¬ pour les iPhone de gÃ©nÃ©ration infÃ©rieure au 8 plus et Ã\\xa0 29â‚¬ pour ceux de gÃ©nÃ©ration supÃ©rieures au 8 plus. Cette option permet de recevoir un appareil avec une batterie neuve posÃ©e par nos Ã©quipes, garantie 12 mois.\\\\nL\\'option est proposÃ©e au moment de l\\'achat de votre appareil. A ce jour, nous sommes les seuls en Europe Ã\\xa0 Ãªtre en mesure de vous proposer cette option.\\\\nLa batterie est changÃ©e spÃ©cifiquement pour vous, dans nos ateliers juste avant l\\'expÃ©dition. Cela peut retarder la livraison de 24h.\\\\n64% de nos clients l\\'ont achetÃ©, 98% le recommandent !\"}\\n'"
      ]
     },
     "execution_count": 9,
     "metadata": {},
     "output_type": "execute_result"
    }
   ],
   "source": [
    "content"
   ]
  }
 ],
 "metadata": {
  "kernelspec": {
   "display_name": "Python 3",
   "language": "python",
   "name": "python3"
  },
  "language_info": {
   "codemirror_mode": {
    "name": "ipython",
    "version": 3
   },
   "file_extension": ".py",
   "mimetype": "text/x-python",
   "name": "python",
   "nbconvert_exporter": "python",
   "pygments_lexer": "ipython3",
   "version": "3.9.10"
  }
 },
 "nbformat": 4,
 "nbformat_minor": 2
}
