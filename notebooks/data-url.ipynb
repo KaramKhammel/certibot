{
 "cells": [
  {
   "cell_type": "code",
   "execution_count": 1,
   "metadata": {},
   "outputs": [],
   "source": [
    "import requests\n",
    "from bs4 import BeautifulSoup"
   ]
  },
  {
   "cell_type": "markdown",
   "metadata": {},
   "source": [
    "# Histoire"
   ]
  },
  {
   "cell_type": "code",
   "execution_count": null,
   "metadata": {},
   "outputs": [],
   "source": [
    "url = 'https://certideal.com/concept-certideal'\n",
    "\n",
    "response = requests.get(url)\n",
    "soup = BeautifulSoup(response.content, 'html.parser')"
   ]
  },
  {
   "cell_type": "code",
   "execution_count": 2,
   "metadata": {},
   "outputs": [],
   "source": [
    "items = []\n",
    "for item in soup.find_all('div', class_='col-xs-12 logos'):\n",
    "    chunk = {\"topic\":item.find('h4').text, \"article\":item.find('p').text}\n",
    "    items.append(chunk)\n",
    "\n",
    "for item in soup.find_all('div', class_='concept-history'):\n",
    "    topic = item.find('h3').text\n",
    "    article = ''\n",
    "    for paragraph in item.find_all('p'):\n",
    "        article = article + paragraph.text\n",
    "    chunk = {\"topic\":topic, \"article\":article.strip()}\n",
    "    items.append(chunk)"
   ]
  },
  {
   "cell_type": "code",
   "execution_count": 3,
   "metadata": {},
   "outputs": [],
   "source": [
    "import json\n",
    "\n",
    "path_write = 'C:/Users/karam/Documents/certibot/data/certi-history-data.jsonl'\n",
    "with open(path_write, 'w') as f:\n",
    "    for item in items:\n",
    "        json_line = json.dumps(item)\n",
    "        f.write(json_line + '\\n')"
   ]
  }
 ],
 "metadata": {
  "kernelspec": {
   "display_name": "Python 3",
   "language": "python",
   "name": "python3"
  },
  "language_info": {
   "codemirror_mode": {
    "name": "ipython",
    "version": 3
   },
   "file_extension": ".py",
   "mimetype": "text/x-python",
   "name": "python",
   "nbconvert_exporter": "python",
   "pygments_lexer": "ipython3",
   "version": "3.9.16"
  }
 },
 "nbformat": 4,
 "nbformat_minor": 2
}
